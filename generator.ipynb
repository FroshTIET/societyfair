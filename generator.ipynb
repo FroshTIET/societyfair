{
 "metadata": {
  "language_info": {
   "codemirror_mode": {
    "name": "ipython",
    "version": 3
   },
   "file_extension": ".py",
   "mimetype": "text/x-python",
   "name": "python",
   "nbconvert_exporter": "python",
   "pygments_lexer": "ipython3",
   "version": "3.8.5-final"
  },
  "orig_nbformat": 2,
  "kernelspec": {
   "name": "python_defaultSpec_1600540233400",
   "display_name": "Python 3.8.5 64-bit ('env': venv)"
  }
 },
 "nbformat": 4,
 "nbformat_minor": 2,
 "cells": [
  {
   "cell_type": "code",
   "execution_count": 1,
   "metadata": {},
   "outputs": [],
   "source": [
    "from jinja2 import Template\n",
    "from django.utils.text import slugify\n",
    "import csv, tqdm"
   ]
  },
  {
   "cell_type": "code",
   "execution_count": 2,
   "metadata": {},
   "outputs": [],
   "source": [
    "zoom_links = {\n",
    "    \"IAESTE CI-TIET\": \"\",\n",
    "    \"Thapar MUN Society\": \"https://zoom.us/j/7427124105?pwd=YjFKeGNFUUcwVndLakNFd0J4L29xZz09\",\n",
    "    \"AIESEC \": \"https://zoom.us/j/92226517072?pwd=Vi9DTEZiTndQY2RkWE5UMGZRbjAzQT09\",\n",
    "    \"Thapar Adventure Club\": \"\",\n",
    "    \"Youth United - Patiala Chapter\": \"https://us04web.zoom.us/j/4394655147?pwd=Y1VqZElGdHRGVjQ5elpwWXhaTEdtZz09\",\n",
    "    \"Pratigya Abhiyan\": \"\",\n",
    "    \"GirlUp TIET\": \"\",\n",
    "    \"Thapar Amateur Astronomers Society -TAAS\": \"\",\n",
    "    \"Literary Society\": \"https://us02web.zoom.us/j/89298442621?pwd=THFoVEJZbjA1L0l5K3I4KzYzSkwwUT09\",\n",
    "    \"Thapar ACM Student Chapter\": \"http://tiny.cc/Thapar_ACM_StudentChapter\",\n",
    "    \"Linux User Group\": \"\",\n",
    "    \"Echoes Club\": \"https://zoom.us/j/2452188054?pwd=Mk8rOXdrbExkVGdsZUd4SVhCRnlqZz09\",\n",
    "    \"Thapar Toastmasters Club\": \"\",\n",
    "    \"LEAD\": \"https://zoom.us/j/97811488535?pwd=NGRYWkYvdTVXa2I2STNHYXRFb2NaUT09\",\n",
    "    \"Enactus Thapar\": \"https://us04web.zoom.us/j/9948426857?pwd=RnpTa3Jvd3B2TFhMcWtIWGxHcnQ2Zz09\",\n",
    "    \"Microsoft Student Chapter\": \"\",\n",
    "    \"Entrepreneurship Development Cell\": \"https://zoom.us/j/2478591141?pwd=QjdxYUIyV2d3ZnRrOWNVSkR1d0YxUT09\",\n",
    "    \"Creative Computing Society\": \"\",\n",
    "    \"Student Alumni Interaction Cell (SAIC)\": \"https://zoom.us/j/97110020059?pwd=NHdkMFVmUmdOOE1LYXdjNXhOaTg3Zz09\",\n",
    "    \"Rotaract Club of TIET\": \"\",\n",
    "    \"Owasp Thapar Student Chapter\": \"\",\n",
    "    \"Fine Arts and Photography society\": \"\",\n",
    "    \"Econ Club\": \"https://zoom.us/j/97231859355?pwd=Y1Aza28rWmNDYTZ5YnF6aGM2bXp4Zz09\",\n",
    "    \"IETE Students' Forum\": \"\",\n",
    "    \"NOX - The western dance society\": \"https://zoom.us/j/96854834840?pwd=Q3Vub1dQT2V3SlhubzJacFc4NllVQT09\",\n",
    "    \"Paryavaran Welfare Society\": \"https://tiet.zoom.us/j/99881576673?pwd=aEdNTUI0WGo1UTRhMkRSdjMyUE8wUT09\",\n",
    "    \"Thapar Society Of Civil Engineers\": \"https://us04web.zoom.us/j/78663394415?pwd=RlpSbFc1cG9iaDlyRUhHQkVKV0ZLZz09\",\n",
    "    \"Thapar Food Festival\": \"https://zoom.us/j/5459133576?pwd=S2VVcExiOHkzekhRNlk3TkpGR1JvQT09\",\n",
    "    \"MUDRA SOCIETY TIET\": \"\",\n",
    "    \"Team Oorja\": \"https://zoom.us/j/3702173547?pwd=blcyQzFxTmNPRFlweWhKRHg3VEdYQT09\",\n",
    "    \"Team Ultron Motorsports\": \"https://us04web.zoom.us/j/78740520164?pwd=M1cvQU95RUQ3RWIvY0ZPaUtJam1hQT09\",\n",
    "    \"SPICMACAY THAPAR CHAPTER\": \"https://tiet.zoom.us/my/eced3\",\n",
    "    \"IETE Students' Forum\": \"\",\n",
    "    \"Team Fateh\": \"\",\n",
    "    \"VIRSA - THE ESSENCE OF PUNJAB\": \"\",\n",
    "}"
   ]
  },
  {
   "cell_type": "code",
   "execution_count": 12,
   "metadata": {
    "tags": []
   },
   "outputs": [],
   "source": [
    "data = []\n",
    "with open('responses.csv', 'r', encoding='utf-8') as csv_file:\n",
    "    csv_reader = csv.reader(csv_file, delimiter=',')\n",
    "    for row in list(csv_reader)[1:]:\n",
    "        context = {'mail': row[1], 'category':row[2],'title':row[3],'logo':\"assets/\" + row[4] + \".png\",'content':row[5],  'embed':row[6], 'zoom':row[9], }\n",
    "        data.append(context)\n"
   ]
  },
  {
   "cell_type": "code",
   "execution_count": 13,
   "metadata": {
    "tags": []
   },
   "outputs": [],
   "source": [
    "for i in data:\n",
    "\n",
    "    rendered = Template(open('show.html').read()).render(title=i['title'], content=i['content'], embedlink=i['embed'], zoom=i['zoom'])\n",
    "\n",
    "    path = 'core/static/' + slugify(i['title']) + '.html'\n",
    "\n",
    "    with open(path, 'w') as writeFile:\n",
    "        writeFile.write(rendered)"
   ]
  },
  {
   "cell_type": "code",
   "execution_count": 14,
   "metadata": {},
   "outputs": [],
   "source": [
    "class Society:\n",
    "    def __init__(self, name, picture, category): \n",
    "        self.title = name\n",
    "        self.picture = picture\n",
    "        self.category = category\n",
    "        self.link = \"/core/static/\" +  slugify(self.title) + \".html\"\n",
    "    \n",
    "    def __str__(self):\n",
    "        return self.title"
   ]
  },
  {
   "cell_type": "code",
   "execution_count": 15,
   "metadata": {
    "tags": []
   },
   "outputs": [
    {
     "output_type": "error",
     "ename": "KeyError",
     "evalue": "'name'",
     "traceback": [
      "\u001b[0;31m---------------------------------------------------------------------------\u001b[0m",
      "\u001b[0;31mKeyError\u001b[0m                                  Traceback (most recent call last)",
      "\u001b[0;32m<ipython-input-15-9dee2284b73c>\u001b[0m in \u001b[0;36m<module>\u001b[0;34m\u001b[0m\n\u001b[1;32m      7\u001b[0m \u001b[0;34m\u001b[0m\u001b[0m\n\u001b[1;32m      8\u001b[0m \u001b[0;32mfor\u001b[0m \u001b[0mi\u001b[0m \u001b[0;32min\u001b[0m \u001b[0mdata\u001b[0m\u001b[0;34m:\u001b[0m\u001b[0;34m\u001b[0m\u001b[0;34m\u001b[0m\u001b[0m\n\u001b[0;32m----> 9\u001b[0;31m     \u001b[0msociety\u001b[0m \u001b[0;34m=\u001b[0m \u001b[0mSociety\u001b[0m\u001b[0;34m(\u001b[0m\u001b[0mname\u001b[0m\u001b[0;34m=\u001b[0m\u001b[0mi\u001b[0m\u001b[0;34m[\u001b[0m\u001b[0;34m'name'\u001b[0m\u001b[0;34m]\u001b[0m\u001b[0;34m,\u001b[0m \u001b[0mpicture\u001b[0m\u001b[0;34m=\u001b[0m\u001b[0;34m\"#\"\u001b[0m\u001b[0;34m,\u001b[0m \u001b[0mcategory\u001b[0m\u001b[0;34m=\u001b[0m\u001b[0;34m\"all\"\u001b[0m\u001b[0;34m)\u001b[0m\u001b[0;34m\u001b[0m\u001b[0;34m\u001b[0m\u001b[0m\n\u001b[0m\u001b[1;32m     10\u001b[0m     \u001b[0;32mif\u001b[0m \u001b[0mi\u001b[0m\u001b[0;34m[\u001b[0m\u001b[0;34m'category'\u001b[0m\u001b[0;34m]\u001b[0m \u001b[0;34m==\u001b[0m \u001b[0;34m\"T\"\u001b[0m\u001b[0;34m:\u001b[0m\u001b[0;34m\u001b[0m\u001b[0;34m\u001b[0m\u001b[0m\n\u001b[1;32m     11\u001b[0m         \u001b[0mtechnicallist\u001b[0m\u001b[0;34m.\u001b[0m\u001b[0mappend\u001b[0m\u001b[0;34m(\u001b[0m\u001b[0mSociety\u001b[0m\u001b[0;34m(\u001b[0m\u001b[0mname\u001b[0m\u001b[0;34m=\u001b[0m\u001b[0mi\u001b[0m\u001b[0;34m[\u001b[0m\u001b[0;34m'name'\u001b[0m\u001b[0;34m]\u001b[0m\u001b[0;34m,\u001b[0m \u001b[0mpicture\u001b[0m\u001b[0;34m=\u001b[0m\u001b[0mi\u001b[0m\u001b[0;34m[\u001b[0m\u001b[0;34m'logo'\u001b[0m\u001b[0;34m]\u001b[0m\u001b[0;34m,\u001b[0m \u001b[0mcategory\u001b[0m\u001b[0;34m=\u001b[0m\u001b[0;34m\"Technical\"\u001b[0m\u001b[0;34m)\u001b[0m\u001b[0;34m)\u001b[0m\u001b[0;34m\u001b[0m\u001b[0;34m\u001b[0m\u001b[0m\n",
      "\u001b[0;31mKeyError\u001b[0m: 'name'"
     ]
    }
   ],
   "source": [
    "alllist = []\n",
    "welfarelist = []\n",
    "technicallist = []\n",
    "culturallist = []\n",
    "multilist = []\n",
    "\n",
    "\n",
    "for i in data:\n",
    "    society = Society(name=i['name'], picture=\"#\", category=\"all\")\n",
    "    if i['category'] == \"T\":\n",
    "        technicallist.append(Society(name=i['title'], picture=i['logo'], category=\"Technical\"))\n",
    "        alllist.append(Society(name=i['title'], picture=i['logo'], category=\"Technical\"))\n",
    "        \n",
    "    elif i['category'] == \"C\":\n",
    "        culturallist.append(Society(name=i['title'], picture=i['logo'], category=\"Cultural\"))\n",
    "        alllist.append(Society(name=i['title'], picture=i['logo'], category=\"Cultural\"))\n",
    "    elif i['category'] == 'W':\n",
    "        welfarelist.append(Society(name=i['title'], picture=i['logo'], category=\"Welfare\"))\n",
    "        alllist.append(Society(name=i['title'], picture=i['logo'], category=\"Welfare\"))\n",
    "    elif i['category'] == \"M\":\n",
    "        multilist.append(Society(name=i['title'], picture=i['logo'], category=\"Multifarious\"))\n",
    "        alllist.append(Society(name=i['title'], picture=i['logo'], category=\"Multifarious\"))\n",
    "\n",
    "print(len(alllist))\n",
    "\n",
    "print(len(welfarelist))\n",
    "print(len(technicallist))\n",
    "print(len(culturallist))\n",
    "print(len(multilist))\n"
   ]
  },
  {
   "cell_type": "code",
   "execution_count": 16,
   "metadata": {},
   "outputs": [],
   "source": [
    "\n",
    "rendered = Template(open('index.html').read()).render(alllist=alllist, technicallist=technicallist, culturallist=culturallist, welfarelist=welfarelist, multilist=multilist)\n",
    "\n",
    "path = 'finalindex.html'\n",
    "\n",
    "with open(path, 'w') as writeFile:\n",
    "    writeFile.write(rendered)"
   ]
  }
 ]
}