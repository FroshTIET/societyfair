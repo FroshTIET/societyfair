{
 "metadata": {
  "language_info": {
   "codemirror_mode": {
    "name": "ipython",
    "version": 3
   },
   "file_extension": ".py",
   "mimetype": "text/x-python",
   "name": "python",
   "nbconvert_exporter": "python",
   "pygments_lexer": "ipython3",
   "version": "3.8.4-final"
  },
  "orig_nbformat": 2,
  "kernelspec": {
   "name": "python_defaultSpec_1600368603049",
   "display_name": "Python 3.8.5 64-bit ('env': venv)"
  }
 },
 "nbformat": 4,
 "nbformat_minor": 2,
 "cells": [
  {
   "cell_type": "code",
   "execution_count": 1,
   "metadata": {},
   "outputs": [],
   "source": [
    "from jinja2 import Template\n",
    "from django.utils.text import slugify\n",
    "import csv, tqdm"
   ]
  },
  {
   "cell_type": "code",
   "execution_count": 2,
   "metadata": {},
   "outputs": [],
   "source": [
    "zoom_links = {\n",
    "    \"IAESTE CI-TIET\": \"\",\n",
    "    \"Thapar MUN Society\": \"https://zoom.us/j/7427124105?pwd=YjFKeGNFUUcwVndLakNFd0J4L29xZz09\",\n",
    "    \"AIESEC \": \"https://zoom.us/j/92226517072?pwd=Vi9DTEZiTndQY2RkWE5UMGZRbjAzQT09\",\n",
    "    \"Thapar Adventure Club\": \"\",\n",
    "    \"Youth United - Patiala Chapter\": \"https://us04web.zoom.us/j/4394655147?pwd=Y1VqZElGdHRGVjQ5elpwWXhaTEdtZz09\",\n",
    "    \"Pratigya Abhiyan\": \"\",\n",
    "    \"GirlUp TIET\": \"\",\n",
    "    \"Thapar Amateur Astronomers Society -TAAS\": \"\",\n",
    "    \"Literary Society\": \"https://us02web.zoom.us/j/89298442621?pwd=THFoVEJZbjA1L0l5K3I4KzYzSkwwUT09\",\n",
    "    \"Thapar ACM Student Chapter\": \"http://tiny.cc/Thapar_ACM_StudentChapter\",\n",
    "    \"Linux User Group\": \"\",\n",
    "    \"Echoes Club\": \"https://zoom.us/j/2452188054?pwd=Mk8rOXdrbExkVGdsZUd4SVhCRnlqZz09\",\n",
    "    \"Thapar Toastmasters Club\": \"\",\n",
    "    \"LEAD\": \"https://zoom.us/j/97811488535?pwd=NGRYWkYvdTVXa2I2STNHYXRFb2NaUT09\",\n",
    "    \"Enactus Thapar\": \"https://us04web.zoom.us/j/9948426857?pwd=RnpTa3Jvd3B2TFhMcWtIWGxHcnQ2Zz09\",\n",
    "    \"Microsoft Student Chapter\": \"\",\n",
    "    \"Entrepreneurship Development Cell\": \"https://zoom.us/j/2478591141?pwd=QjdxYUIyV2d3ZnRrOWNVSkR1d0YxUT09\",\n",
    "    \"Creative Computing Society\": \"\",\n",
    "    \"Student Alumni Interaction Cell (SAIC)\": \"https://zoom.us/j/97110020059?pwd=NHdkMFVmUmdOOE1LYXdjNXhOaTg3Zz09\",\n",
    "    \"Rotaract Club of TIET\": \"\",\n",
    "    \"Owasp Thapar Student Chapter\": \"\",\n",
    "    \"Fine Arts and Photography society\": \"\",\n",
    "    \"Econ Club\": \"https://zoom.us/j/97231859355?pwd=Y1Aza28rWmNDYTZ5YnF6aGM2bXp4Zz09\",\n",
    "    \"IETE Students' Forum\": \"\",\n",
    "    \"NOX - The western dance society\": \"https://zoom.us/j/96854834840?pwd=Q3Vub1dQT2V3SlhubzJacFc4NllVQT09\",\n",
    "    \"Paryavaran Welfare Society\": \"https://tiet.zoom.us/j/99881576673?pwd=aEdNTUI0WGo1UTRhMkRSdjMyUE8wUT09\",\n",
    "    \"Thapar Society Of Civil Engineers\": \"https://us04web.zoom.us/j/78663394415?pwd=RlpSbFc1cG9iaDlyRUhHQkVKV0ZLZz09\",\n",
    "    \"Thapar Food Festival\": \"https://zoom.us/j/5459133576?pwd=S2VVcExiOHkzekhRNlk3TkpGR1JvQT09\",\n",
    "    \"MUDRA SOCIETY TIET\": \"\",\n",
    "    \"Team Oorja\": \"https://zoom.us/j/3702173547?pwd=blcyQzFxTmNPRFlweWhKRHg3VEdYQT09\",\n",
    "    \"Team Ultron Motorsports\": \"https://us04web.zoom.us/j/78740520164?pwd=M1cvQU95RUQ3RWIvY0ZPaUtJam1hQT09\",\n",
    "    \"SPICMACAY THAPAR CHAPTER\": \"https://tiet.zoom.us/my/eced3\",\n",
    "    \"IETE Students' Forum\": \"\",\n",
    "    \"Team Fateh\": \"\",\n",
    "    \"VIRSA - THE ESSENCE OF PUNJAB\": \"\",\n",
    "}"
   ]
  },
  {
   "cell_type": "code",
   "execution_count": 13,
   "metadata": {
    "tags": []
   },
   "outputs": [],
   "source": [
    "data = []\n",
    "with open('responses.csv', 'r', encoding='utf-8') as csv_file:\n",
    "    csv_reader = csv.reader(csv_file, delimiter=',')\n",
    "    for row in list(csv_reader)[1:]:\n",
    "        context = {'mail': row[1], 'category':row[2],'title':row[3],'logo':\"assets/\" + row[4] + \".png\",'content':row[5],  'embed':row[6], 'zoom':row[9], }\n",
    "        data.append(context)\n"
   ]
  },
  {
   "cell_type": "code",
   "execution_count": 14,
   "metadata": {},
   "outputs": [
    {
     "output_type": "error",
     "ename": "FileNotFoundError",
     "evalue": "[Errno 2] No such file or directory: 'core/static/thapar-mun-society.html'",
     "traceback": [
      "\u001b[1;31m---------------------------------------------------------------------------\u001b[0m",
      "\u001b[1;31mFileNotFoundError\u001b[0m                         Traceback (most recent call last)",
      "\u001b[1;32m<ipython-input-14-e66ea6c51211>\u001b[0m in \u001b[0;36m<module>\u001b[1;34m\u001b[0m\n\u001b[0;32m      3\u001b[0m \u001b[0mpath\u001b[0m \u001b[1;33m=\u001b[0m \u001b[1;34m'core/static/'\u001b[0m \u001b[1;33m+\u001b[0m \u001b[0mslugify\u001b[0m\u001b[1;33m(\u001b[0m\u001b[0mdata\u001b[0m\u001b[1;33m[\u001b[0m\u001b[1;36m0\u001b[0m\u001b[1;33m]\u001b[0m\u001b[1;33m[\u001b[0m\u001b[1;34m'title'\u001b[0m\u001b[1;33m]\u001b[0m\u001b[1;33m)\u001b[0m \u001b[1;33m+\u001b[0m \u001b[1;34m'.html'\u001b[0m\u001b[1;33m\u001b[0m\u001b[1;33m\u001b[0m\u001b[0m\n\u001b[0;32m      4\u001b[0m \u001b[1;33m\u001b[0m\u001b[0m\n\u001b[1;32m----> 5\u001b[1;33m \u001b[1;32mwith\u001b[0m \u001b[0mopen\u001b[0m\u001b[1;33m(\u001b[0m\u001b[0mpath\u001b[0m\u001b[1;33m,\u001b[0m \u001b[1;34m'w'\u001b[0m\u001b[1;33m)\u001b[0m \u001b[1;32mas\u001b[0m \u001b[0mwriteFile\u001b[0m\u001b[1;33m:\u001b[0m\u001b[1;33m\u001b[0m\u001b[1;33m\u001b[0m\u001b[0m\n\u001b[0m\u001b[0;32m      6\u001b[0m     \u001b[0mwriteFile\u001b[0m\u001b[1;33m.\u001b[0m\u001b[0mwrite\u001b[0m\u001b[1;33m(\u001b[0m\u001b[0mrendered\u001b[0m\u001b[1;33m)\u001b[0m\u001b[1;33m\u001b[0m\u001b[1;33m\u001b[0m\u001b[0m\n",
      "\u001b[1;31mFileNotFoundError\u001b[0m: [Errno 2] No such file or directory: 'core/static/thapar-mun-society.html'"
     ]
    }
   ],
   "source": [
    "rendered = Template(open('show.html').read()).render(title=data[0]['title'], content=data[0]['content'], embedlink=data[0]['embed'])\n",
    "\n",
    "path = 'core/static/' + slugify(data[0]['title']) + '.html'\n",
    "\n",
    "with open(path, 'w') as writeFile:\n",
    "    writeFile.write(rendered)"
   ]
  },
  {
   "cell_type": "code",
   "execution_count": 12,
   "metadata": {},
   "outputs": [
    {
     "output_type": "execute_result",
     "data": {
      "text/plain": "[{'name': 'Thapar MUN Society',\n  'logo': 'https://i.imgur.com/zzsZbUj.png',\n  'category': 'C'},\n {'name': 'Fine Arts and Photography society',\n  'logo': 'https://i.imgur.com/z0FzxPs.png',\n  'category': 'C'},\n {'name': 'Thapar Toastmasters Club',\n  'logo': 'https://i.imgur.com/YODK2p0.png',\n  'category': 'C'},\n {'name': \"IETE Students' Forum\",\n  'logo': 'https://i.imgur.com/VOx6rm2.png',\n  'category': 'T'},\n {'name': 'Owasp Thapar Student Chapter',\n  'logo': 'https://i.imgur.com/v2K908O.png',\n  'category': 'T'},\n {'name': 'Team Oorja',\n  'logo': 'https://i.imgur.com/UufhNFk.png',\n  'category': 'T'},\n {'name': 'Entrepreneurship Development Cell',\n  'logo': 'https://i.imgur.com/ukGX0gs.png',\n  'category': 'W'},\n {'name': 'Econ Club',\n  'logo': 'https://i.imgur.com/ubxI2p3.png',\n  'category': 'M'},\n {'name': 'Enactus Thapar',\n  'logo': 'https://i.imgur.com/U6aItbm.png',\n  'category': 'W'},\n {'name': 'VIRSA - THE ESSENCE OF PUNJAB',\n  'logo': 'https://i.imgur.com/T4liQkP.jpg',\n  'category': 'C'},\n {'name': 'Thapar ACM Student Chapter',\n  'logo': 'https://i.imgur.com/S7g5eCl.png',\n  'category': 'T'},\n {'name': 'Thapar Food Festival',\n  'logo': 'https://i.imgur.com/Riwj6YP.png',\n  'category': 'C'},\n {'name': 'SPICMACAY THAPAR CHAPTER',\n  'logo': 'https://i.imgur.com/qHj8a3o.jpg',\n  'category': 'C'},\n {'name': 'Microsoft Student Chapter',\n  'logo': 'https://i.imgur.com/p9XEGDX.png',\n  'category': 'T'},\n {'name': 'Youth United - Patiala Chapter',\n  'logo': 'https://i.imgur.com/lXcqa4J.png',\n  'category': 'W'},\n {'name': 'Rotaract Club of TIET',\n  'logo': 'https://i.imgur.com/lQgki4F.png',\n  'category': 'W'},\n {'name': 'Team Ultron Motorsports',\n  'logo': 'https://i.imgur.com/l50KLai.png',\n  'category': 'T'},\n {'name': 'AIESEC ',\n  'logo': 'https://i.imgur.com/Kn17eW8.png',\n  'category': 'W'},\n {'name': 'Student Alumni Interaction Cell (SAIC)',\n  'logo': 'https://i.imgur.com/Icf9buv.png',\n  'category': 'M'},\n {'name': 'IAESTE CI-TIET',\n  'logo': 'https://i.imgur.com/h2I5gzT.png',\n  'category': 'W'},\n {'name': 'GirlUp TIET',\n  'logo': 'https://i.imgur.com/gLEc5uK.png',\n  'category': 'W'},\n {'name': 'Creative Computing Society',\n  'logo': 'https://i.imgur.com/FP72qVM.png',\n  'category': 'T'},\n {'name': 'NOX - The western dance society',\n  'logo': 'https://i.imgur.com/fc7rotS.png',\n  'category': 'C'},\n {'name': 'Thapar Adventure Club',\n  'logo': 'https://i.imgur.com/EWeoNcs.png',\n  'category': 'W'},\n {'name': 'Echoes Club',\n  'logo': 'https://i.imgur.com/CEjGjfh.png',\n  'category': 'M'},\n {'name': 'Linux User Group',\n  'logo': 'https://i.imgur.com/BSc1jAc.png',\n  'category': 'T'},\n {'name': 'Paryavaran Welfare Society',\n  'logo': 'https://i.imgur.com/bAS3fea.png',\n  'category': 'W'},\n {'name': 'Literary Society',\n  'logo': 'https://i.imgur.com/aVxTwrq.png',\n  'category': 'M'},\n {'name': 'Thapar Amateur Astronomers Society -TAAS',\n  'logo': 'https://i.imgur.com/Ac1x5Vt.png',\n  'category': 'M'},\n {'name': 'Team Fateh',\n  'logo': 'https://i.imgur.com/6WvVlVF.png',\n  'category': 'T'},\n {'name': 'MUDRA SOCIETY TIET',\n  'logo': 'https://i.imgur.com/6Wux0FY.png',\n  'category': 'C'},\n {'name': 'Thapar Movie Club',\n  'logo': 'https://i.imgur.com/2UIfw78.png',\n  'category': 'C'},\n {'name': 'LEAD', 'logo': 'https://i.imgur.com/2joQkKY.png', 'category': 'W'},\n {'name': 'Thapar Society Of Civil Engineers',\n  'logo': 'https://i.imgur.com/2eym8E8.png',\n  'category': 'T'},\n {'name': 'Pratigya Abhiyan',\n  'logo': 'https://i.imgur.com/2EgXIyF.png',\n  'category': 'W'}]"
     },
     "metadata": {},
     "execution_count": 12
    }
   ],
   "source": [
    "data = []\n",
    "with open('responses2.csv', 'r', encoding='utf-8') as csv_file:\n",
    "    csv_reader = csv.reader(csv_file, delimiter=',')\n",
    "    for row in list(csv_reader)[1:]:\n",
    "        context = {'name':row[3],'logo':row[4],'category':row[2]}\n",
    "        data.append(context)\n",
    "data"
   ]
  },
  {
   "cell_type": "code",
   "execution_count": 13,
   "metadata": {
    "tags": []
   },
   "outputs": [
    {
     "output_type": "error",
     "ename": "KeyError",
     "evalue": "'content'",
     "traceback": [
      "\u001b[1;31m---------------------------------------------------------------------------\u001b[0m",
      "\u001b[1;31mKeyError\u001b[0m                                  Traceback (most recent call last)",
      "\u001b[1;32m<ipython-input-13-8aebf1fac38f>\u001b[0m in \u001b[0;36m<module>\u001b[1;34m\u001b[0m\n\u001b[0;32m      1\u001b[0m \u001b[1;32mfor\u001b[0m \u001b[0mi\u001b[0m \u001b[1;32min\u001b[0m \u001b[0mdata\u001b[0m\u001b[1;33m:\u001b[0m\u001b[1;33m\u001b[0m\u001b[1;33m\u001b[0m\u001b[0m\n\u001b[0;32m      2\u001b[0m \u001b[1;33m\u001b[0m\u001b[0m\n\u001b[1;32m----> 3\u001b[1;33m     \u001b[0mrendered\u001b[0m \u001b[1;33m=\u001b[0m \u001b[0mTemplate\u001b[0m\u001b[1;33m(\u001b[0m\u001b[0mopen\u001b[0m\u001b[1;33m(\u001b[0m\u001b[1;34m'show.html'\u001b[0m\u001b[1;33m)\u001b[0m\u001b[1;33m.\u001b[0m\u001b[0mread\u001b[0m\u001b[1;33m(\u001b[0m\u001b[1;33m)\u001b[0m\u001b[1;33m)\u001b[0m\u001b[1;33m.\u001b[0m\u001b[0mrender\u001b[0m\u001b[1;33m(\u001b[0m\u001b[0mtitle\u001b[0m\u001b[1;33m=\u001b[0m\u001b[0mi\u001b[0m\u001b[1;33m[\u001b[0m\u001b[1;34m'name'\u001b[0m\u001b[1;33m]\u001b[0m\u001b[1;33m,\u001b[0m \u001b[0mcontent\u001b[0m\u001b[1;33m=\u001b[0m\u001b[0mi\u001b[0m\u001b[1;33m[\u001b[0m\u001b[1;34m'content'\u001b[0m\u001b[1;33m]\u001b[0m\u001b[1;33m,\u001b[0m \u001b[0membedlink\u001b[0m\u001b[1;33m=\u001b[0m\u001b[0mi\u001b[0m\u001b[1;33m[\u001b[0m\u001b[1;34m'youtube'\u001b[0m\u001b[1;33m]\u001b[0m\u001b[1;33m,\u001b[0m \u001b[0mzoom\u001b[0m\u001b[1;33m=\u001b[0m\u001b[0mi\u001b[0m\u001b[1;33m[\u001b[0m\u001b[1;34m'zoom'\u001b[0m\u001b[1;33m]\u001b[0m\u001b[1;33m)\u001b[0m\u001b[1;33m\u001b[0m\u001b[1;33m\u001b[0m\u001b[0m\n\u001b[0m\u001b[0;32m      4\u001b[0m \u001b[1;33m\u001b[0m\u001b[0m\n\u001b[0;32m      5\u001b[0m     \u001b[0mpath\u001b[0m \u001b[1;33m=\u001b[0m \u001b[1;34m'core/static/'\u001b[0m \u001b[1;33m+\u001b[0m \u001b[0mslugify\u001b[0m\u001b[1;33m(\u001b[0m\u001b[0mi\u001b[0m\u001b[1;33m[\u001b[0m\u001b[1;34m'name'\u001b[0m\u001b[1;33m]\u001b[0m\u001b[1;33m)\u001b[0m \u001b[1;33m+\u001b[0m \u001b[1;34m'.html'\u001b[0m\u001b[1;33m\u001b[0m\u001b[1;33m\u001b[0m\u001b[0m\n",
      "\u001b[1;31mKeyError\u001b[0m: 'content'"
     ]
    }
   ],
   "source": [
    "for i in data:\n",
    "\n",
    "    rendered = Template(open('show.html').read()).render(title=i['title'], content=i['content'], embedlink=i['youtube'], zoom=i['zoom'])\n",
    "\n",
    "    path = 'core/static/' + slugify(i['title']) + '.html'\n",
    "\n",
    "    with open(path, 'w') as writeFile:\n",
    "        writeFile.write(rendered)"
   ]
  },
  {
   "cell_type": "code",
   "execution_count": 14,
   "metadata": {},
   "outputs": [],
   "source": [
    "class Society:\n",
    "    def __init__(self, name, picture, category): \n",
    "        self.title = name\n",
    "        self.picture = picture\n",
    "        self.category = category\n",
    "        self.link = \"/core/static/\" +  slugify(self.title) + \".html\"\n",
    "    \n",
    "    def __str__(self):\n",
    "        return self.title"
   ]
  },
  {
   "cell_type": "code",
   "execution_count": 15,
   "metadata": {
    "tags": []
   },
   "outputs": [
    {
     "output_type": "stream",
     "name": "stdout",
     "text": "35\n11\n10\n9\n5\n"
    }
   ],
   "source": [
    "alllist = []\n",
    "welfarelist = []\n",
    "technicallist = []\n",
    "culturallist = []\n",
    "multilist = []\n",
    "\n",
    "\n",
    "for i in data:\n",
    "    society = Society(name=i['name'], picture=\"#\", category=\"all\")\n",
    "    if i['category'] == \"T\":\n",
    "        technicallist.append(Society(name=i['name'], picture=i['logo'], category=\"Technical\"))\n",
    "        alllist.append(Society(name=i['name'], picture=i['logo'], category=\"Technical\"))\n",
    "        \n",
    "    elif i['category'] == \"C\":\n",
    "        culturallist.append(Society(name=i['name'], picture=i['logo'], category=\"Cultural\"))\n",
    "        alllist.append(Society(name=i['name'], picture=i['logo'], category=\"Cultural\"))\n",
    "    elif i['category'] == 'W':\n",
    "        welfarelist.append(Society(name=i['name'], picture=i['logo'], category=\"Welfare\"))\n",
    "        alllist.append(Society(name=i['name'], picture=i['logo'], category=\"Welfare\"))\n",
    "    elif i['category'] == \"M\":\n",
    "        multilist.append(Society(name=i['name'], picture=i['logo'], category=\"Multifarious\"))\n",
    "        alllist.append(Society(name=i['name'], picture=i['logo'], category=\"Multifarious\"))\n",
    "\n",
    "print(len(alllist))\n",
    "\n",
    "print(len(welfarelist))\n",
    "print(len(technicallist))\n",
    "print(len(culturallist))\n",
    "print(len(multilist))\n"
   ]
  },
  {
   "cell_type": "code",
   "execution_count": 16,
   "metadata": {},
   "outputs": [],
   "source": [
    "\n",
    "rendered = Template(open('index.html').read()).render(alllist=alllist, technicallist=technicallist, culturallist=culturallist, welfarelist=welfarelist, multilist=multilist)\n",
    "\n",
    "path = 'finalindex.html'\n",
    "\n",
    "with open(path, 'w') as writeFile:\n",
    "    writeFile.write(rendered)"
   ]
  }
 ]
}